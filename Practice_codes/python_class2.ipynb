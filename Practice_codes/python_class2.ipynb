{
  "nbformat": 4,
  "nbformat_minor": 0,
  "metadata": {
    "colab": {
      "provenance": []
    },
    "kernelspec": {
      "name": "python3",
      "display_name": "Python 3"
    },
    "language_info": {
      "name": "python"
    }
  },
  "cells": [
    {
      "cell_type": "code",
      "execution_count": 11,
      "metadata": {
        "id": "Qyoj8_mNztN6"
      },
      "outputs": [],
      "source": [
        "#class inheritance\n",
        "\n",
        "class Person:\n",
        "  name = \"Jane\"\n",
        "  sex = \"female\"\n",
        "  age = 23\n",
        "\n",
        "  def introduce(self):\n",
        "    print(\"Hello!\")\n",
        "\n",
        "class Student(Person): # <- inherited class\n",
        "\n",
        "  student_ID = 2000123456\n",
        "\n",
        "  def import_ID(self):\n",
        "    print(\"My ID is 2000123456!\")\n"
      ]
    },
    {
      "cell_type": "code",
      "source": [
        "Kim = Person()\n",
        "\n",
        "Kim.introduce()\n",
        "#Kim.import_ID() <- can't because it is only on Person class\n",
        "\n",
        "Park = Student()\n",
        "Park.introduce()\n",
        "Park.import_ID()"
      ],
      "metadata": {
        "colab": {
          "base_uri": "https://localhost:8080/"
        },
        "id": "6uTAM0uK8zZt",
        "outputId": "81a2edd1-0d7b-47d1-9881-ff732bf04893"
      },
      "execution_count": 12,
      "outputs": [
        {
          "output_type": "stream",
          "name": "stdout",
          "text": [
            "Hello!\n",
            "Hello!\n",
            "My ID is 2000123456!\n"
          ]
        }
      ]
    }
  ]
}