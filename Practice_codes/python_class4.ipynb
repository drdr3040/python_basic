{
  "nbformat": 4,
  "nbformat_minor": 0,
  "metadata": {
    "colab": {
      "provenance": []
    },
    "kernelspec": {
      "name": "python3",
      "display_name": "Python 3"
    },
    "language_info": {
      "name": "python"
    }
  },
  "cells": [
    {
      "cell_type": "code",
      "execution_count": 5,
      "metadata": {
        "id": "Jr3ssGVQTjwH"
      },
      "outputs": [],
      "source": [
        "#__init__ in class\n",
        "\n",
        "class Warrior:\n",
        "  def __init__(self): #primary points\n",
        "    self.health_point_max = 100\n",
        "    self.health_point = 100\n",
        "    self.attack_point = 10\n",
        "\n",
        "  def check(self): # it will show current ability\n",
        "    print(\"The warrior's health point is {} and attack point is {}\".format(self.health_point, self.attack_point))\n",
        "\n",
        "  def exercise(self): # this will grow the max HP and attack point\n",
        "    self.health_point_max += 10\n",
        "    self.attack_point += 1\n",
        "\n",
        "  def HP_heal(self, point): # if current HP is more than max HP -- we need to organize\n",
        "    self.health_point += point\n",
        "    if self.health_point > self.health_point_max:\n",
        "      self.health_point = self.health_point_max\n"
      ]
    },
    {
      "cell_type": "code",
      "source": [
        "warrior = Warrior()\n",
        "warrior.check()\n",
        "\n",
        "warrior.exercise()\n",
        "warrior.HP_heal(20) #we heal HP 20, but max HP is 110, so warrior's HP will be 110\n",
        "\n",
        "warrior.check()"
      ],
      "metadata": {
        "colab": {
          "base_uri": "https://localhost:8080/"
        },
        "id": "CRLYv8LDU3Qr",
        "outputId": "a11cadb9-1087-4437-f713-ad64a71d7472"
      },
      "execution_count": 6,
      "outputs": [
        {
          "output_type": "stream",
          "name": "stdout",
          "text": [
            "The warrior's health point is 100 and attack point is 10\n",
            "The warrior's health point is 110 and attack point is 11\n"
          ]
        }
      ]
    }
  ]
}