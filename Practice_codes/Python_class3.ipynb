{
  "nbformat": 4,
  "nbformat_minor": 0,
  "metadata": {
    "colab": {
      "provenance": []
    },
    "kernelspec": {
      "name": "python3",
      "display_name": "Python 3"
    },
    "language_info": {
      "name": "python"
    }
  },
  "cells": [
    {
      "cell_type": "code",
      "execution_count": 1,
      "metadata": {
        "id": "lkea_-DYAkUC"
      },
      "outputs": [],
      "source": [
        "#isinstance and issubclass --- by inheritance\n",
        "\n",
        "class Living_things: # first class\n",
        "  breath = True\n",
        "\n",
        "  def live(self):\n",
        "    print(\"I'm alive!\")\n",
        "\n",
        "class Fauna_flora(Living_things): #subclass of first class\n",
        "  pass\n",
        "\n",
        "class Animal(Fauna_flora): # two class are subclasses of Fauna_flora\n",
        "  def live(self):\n",
        "    print(\"I'm animal!\") #we can redefine some method\n",
        "\n",
        "class Plant(Fauna_flora):\n",
        "  def live(self):\n",
        "    print(\"I'm plant!\")\n",
        "\n",
        "class Cat(Animal): #this class is subclass of Animal\n",
        "  def live(self):\n",
        "    print(\"I'm cat! miyao~\")"
      ]
    },
    {
      "cell_type": "code",
      "source": [
        "live_creature = Living_things() # five examples\n",
        "unexpected_creature = Fauna_flora()\n",
        "lion = Animal()\n",
        "sunflower = Plant()\n",
        "cat = Cat()\n",
        "\n",
        "live_creature.live() # five method examples\n",
        "unexpected_creature.live()\n",
        "lion.live()\n",
        "sunflower.live()\n",
        "cat.live()"
      ],
      "metadata": {
        "colab": {
          "base_uri": "https://localhost:8080/"
        },
        "id": "FVbDlEgBDMrg",
        "outputId": "51fce647-311e-4367-91b1-22a65ce641df"
      },
      "execution_count": 2,
      "outputs": [
        {
          "output_type": "stream",
          "name": "stdout",
          "text": [
            "I'm alive!\n",
            "I'm alive!\n",
            "I'm animal!\n",
            "I'm plant!\n",
            "I'm cat! miyao~\n"
          ]
        }
      ]
    },
    {
      "cell_type": "code",
      "source": [
        "print(isinstance(lion, Living_things)) # two examples about isinstance function\n",
        "print(isinstance(lion, Plant))\n",
        "\n",
        "print(issubclass(Plant, Living_things)) # three examples about issubclass function\n",
        "print(issubclass(Cat, Fauna_flora))\n",
        "print(issubclass(Animal, Plant))"
      ],
      "metadata": {
        "colab": {
          "base_uri": "https://localhost:8080/"
        },
        "id": "06poS0vpEh8O",
        "outputId": "b0f254d0-3aee-4bf9-c78c-39d91e2a4f42"
      },
      "execution_count": 4,
      "outputs": [
        {
          "output_type": "stream",
          "name": "stdout",
          "text": [
            "True\n",
            "False\n",
            "True\n",
            "True\n",
            "False\n"
          ]
        }
      ]
    }
  ]
}