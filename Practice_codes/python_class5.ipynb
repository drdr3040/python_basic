{
  "nbformat": 4,
  "nbformat_minor": 0,
  "metadata": {
    "colab": {
      "provenance": []
    },
    "kernelspec": {
      "name": "python3",
      "display_name": "Python 3"
    },
    "language_info": {
      "name": "python"
    }
  },
  "cells": [
    {
      "cell_type": "code",
      "execution_count": 1,
      "metadata": {
        "id": "4OPTfaK4XSyS"
      },
      "outputs": [],
      "source": [
        "# python __init__ setting\n",
        "\n",
        "class Person:\n",
        "  def setting(self, name, age, sex):\n",
        "    self.name = name\n",
        "    self.age = age\n",
        "    self.sex = sex\n",
        "\n",
        "  def printing(self):\n",
        "    print(\"name : {}\".format(self.name))\n",
        "    print(\"age : {}\".format(self.age))\n",
        "    print(\"sex : {}\".format(self.sex))\n",
        "\n",
        "  def __init__(self, name, age, sex): # __init__ in class\n",
        "    self.setting(name, age, sex)\n",
        "    print(\"your information is successfully impressed!\")\n",
        "\n",
        ""
      ]
    },
    {
      "cell_type": "code",
      "source": [
        "person = Person('James', 20, 'male')\n",
        "\n",
        "person.printing()"
      ],
      "metadata": {
        "colab": {
          "base_uri": "https://localhost:8080/"
        },
        "id": "jHr77eZtY0qA",
        "outputId": "e27ba8b1-94eb-49bc-d852-ba75ca597913"
      },
      "execution_count": 2,
      "outputs": [
        {
          "output_type": "stream",
          "name": "stdout",
          "text": [
            "your information is successfully impressed!\n",
            "name : James\n",
            "age : 20\n",
            "sex : male\n"
          ]
        }
      ]
    }
  ]
}