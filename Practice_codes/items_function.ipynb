{
  "nbformat": 4,
  "nbformat_minor": 0,
  "metadata": {
    "colab": {
      "provenance": []
    },
    "kernelspec": {
      "name": "python3",
      "display_name": "Python 3"
    },
    "language_info": {
      "name": "python"
    }
  },
  "cells": [
    {
      "cell_type": "code",
      "execution_count": 2,
      "metadata": {
        "colab": {
          "base_uri": "https://localhost:8080/"
        },
        "id": "yvrU4S52qAh0",
        "outputId": "41a44195-d211-46ae-8471-32b03e599b5d"
      },
      "outputs": [
        {
          "output_type": "stream",
          "name": "stdout",
          "text": [
            "apple has red color\n",
            "\n",
            "orange has orange color\n",
            "\n",
            "melon has green color\n",
            "\n"
          ]
        }
      ],
      "source": [
        "#python by using items() function, easily show key and value\n",
        "\n",
        "fruit = {\"apple\" : \"red\", \"orange\" : \"orange\", \"melon\" : \"green\"}\n",
        "\n",
        "for k, v in fruit.items():\n",
        "  print(\"{} has {} color\".format(k, v))\n",
        "  print(\"\")\n"
      ]
    }
  ]
}