{
  "nbformat": 4,
  "nbformat_minor": 0,
  "metadata": {
    "colab": {
      "provenance": []
    },
    "kernelspec": {
      "name": "python3",
      "display_name": "Python 3"
    },
    "language_info": {
      "name": "python"
    }
  },
  "cells": [
    {
      "cell_type": "code",
      "execution_count": 3,
      "metadata": {
        "id": "eba0jgTcx1XV"
      },
      "outputs": [],
      "source": [
        "#python class practice primary\n",
        "\n",
        "class fruit_price: #the basic price of fruits\n",
        "  apple = 1000\n",
        "  pear = 2000\n",
        "  melon = 3000\n",
        "  banana = 2500\n",
        "\n",
        "  def drought(self): #if drought occurs, price of fruits increases\n",
        "    self.apple += 300\n",
        "    self.pear += 400\n",
        "    self.melon += 600\n",
        "    self.banana += 800\n",
        "\n",
        "  def bumper(self): #if bumper occurs, price of fruits decreases\n",
        "    self.apple -= 200\n",
        "    self.pear -= 300\n",
        "    self.melon -= 500\n",
        "    self.banana -= 800\n",
        "\n",
        "class beverage_price: #the basic price of beverages\n",
        "  coffee = 800\n",
        "  juice = 1200\n",
        "  water = 500\n",
        "  coke = 1300\n",
        "\n",
        "  def inplation(self): #if it is inplation, price of beverages increases\n",
        "    self.coffee += 100\n",
        "    self.juice += 100\n",
        "    self.water += 50\n",
        "    self.coke += 200\n",
        "\n",
        "  def deplation(self): #if it is deplation, price of beverages decreases\n",
        "    self.coffee -= 50\n",
        "    self.juice -= 100\n",
        "    self.water -= 20\n",
        "    self.coke -= 50"
      ]
    },
    {
      "cell_type": "code",
      "source": [
        "fruit_price_2010 = fruit_price() #fruit object\n",
        "fruit_price_2011 = fruit_price()\n",
        "\n",
        "beverage_price_2010 = beverage_price() #beverage object\n",
        "beverage_price_2011 = beverage_price()\n",
        "\n",
        "fruit_price_2010.drought() #each circumstance occur\n",
        "fruit_price_2011.bumper()\n",
        "\n",
        "beverage_price_2010.inplation()\n",
        "beverage_price_2011.deplation()\n",
        "\n",
        "print(fruit_price_2010.banana) #example price\n",
        "print(fruit_price_2011.apple)\n",
        "\n",
        "print(beverage_price_2010.coffee)\n",
        "print(beverage_price_2011.coke)"
      ],
      "metadata": {
        "colab": {
          "base_uri": "https://localhost:8080/"
        },
        "id": "jba9oAGrzeAr",
        "outputId": "b0c2d69d-e1b3-4459-b1f4-4e9aac5b31f8"
      },
      "execution_count": 5,
      "outputs": [
        {
          "output_type": "stream",
          "name": "stdout",
          "text": [
            "3300\n",
            "800\n",
            "900\n",
            "1250\n"
          ]
        }
      ]
    }
  ]
}